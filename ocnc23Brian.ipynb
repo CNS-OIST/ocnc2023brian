{
 "cells": [
  {
   "cell_type": "markdown",
   "id": "c5385634",
   "metadata": {},
   "source": [
    "## Introduction to Brian2"
   ]
  },
  {
   "cell_type": "markdown",
   "id": "609989a5",
   "metadata": {},
   "source": [
    "- Ideal for integrate-and-fire models, non-linear channel dynamics\n",
    "- Multi-compartmental models (although not as popular)\n",
    "- Not made for rate-based models."
   ]
  },
  {
   "cell_type": "markdown",
   "id": "e05de446",
   "metadata": {},
   "source": [
    "**Strong points**\n",
    "- Concise language\n",
    "- Free\n",
    "- Versatile and flexible\n",
    "- Code generation: standalone mode for maximal performance (Brian's high-performance mode that turns whole simulation into a single compiled file. Faster.\n",
    "\n",
    "\n",
    "**Weak points**\n",
    "- Brian provides no support for cluster computations and limited support for multicore computers. Not made for big networks with lots of synapses (~1million).\n",
    "- Code generation: standalone mode (you cannot interleave Brian code with Python code).\n"
   ]
  },
  {
   "cell_type": "markdown",
   "id": "bd1ae651",
   "metadata": {},
   "source": [
    "**Brian specificity**\n",
    "- Mathematical notation, physical units"
   ]
  },
  {
   "cell_type": "code",
   "execution_count": null,
   "id": "a0fc8e7a",
   "metadata": {},
   "outputs": [],
   "source": [
    "from brian2 import *\n",
    "\n",
    "a = 10*mV\n",
    "b = 2*volt\n",
    "c = a+b\n",
    "print(c)"
   ]
  },
  {
   "cell_type": "markdown",
   "id": "0ccfce3b",
   "metadata": {},
   "source": [
    "### Further material about Brian\n",
    "- briansimulator.org\n",
    "- brian2.readthedocs.org\n",
    "- briansupport@googlegroups.com\n",
    "- groups.google.com/forum/#!forum/briansupport\n",
    "- github.com/brian-team/brian2"
   ]
  },
  {
   "cell_type": "markdown",
   "id": "969c4e56",
   "metadata": {},
   "source": [
    "## Brian tutorial part 1: models of spiking neurons"
   ]
  },
  {
   "cell_type": "markdown",
   "id": "76ac3ddf",
   "metadata": {},
   "source": [
    "### Defining a simple neuron model dynamics"
   ]
  },
  {
   "cell_type": "markdown",
   "id": "81268558",
   "metadata": {},
   "source": [
    "<center>$C\\frac{dV}{dt} = g_L(E_L - V) + I$</center>\n",
    "with $C=100 pF$, \n",
    "$E_L=-70 mV$,  \n",
    "$g_L=10 nS$ and \n",
    "$I = 1 nA$"
   ]
  },
  {
   "cell_type": "code",
   "execution_count": null,
   "id": "85708264",
   "metadata": {},
   "outputs": [],
   "source": [
    "# Brian models are defined as strings\n",
    "# Each variable definition in the model needs to state the physical dimensions\n",
    "\n",
    "\n",
    "\n"
   ]
  },
  {
   "cell_type": "markdown",
   "id": "c73d5a55",
   "metadata": {},
   "source": [
    "We now inject a periodic current.\n",
    "\n",
    "<center>$I = 1 + 1.25 sin(2\\pi f t)$</center>\n"
   ]
  },
  {
   "cell_type": "code",
   "execution_count": null,
   "id": "0297ad96",
   "metadata": {},
   "outputs": [],
   "source": []
  },
  {
   "cell_type": "markdown",
   "id": "760462cd",
   "metadata": {},
   "source": [
    "## Brian tutorial part 2: synapses"
   ]
  },
  {
   "cell_type": "code",
   "execution_count": null,
   "id": "50d07a8a",
   "metadata": {},
   "outputs": [],
   "source": [
    "# Synapses objects take as arguments the source and target neuron group\n",
    "\n",
    "\n",
    "\n"
   ]
  },
  {
   "cell_type": "markdown",
   "id": "9cb1d5cb",
   "metadata": {},
   "source": [
    "### More  complex network connectivity"
   ]
  },
  {
   "cell_type": "code",
   "execution_count": null,
   "id": "4377d040",
   "metadata": {},
   "outputs": [],
   "source": [
    "# 1) no auto-connections, \n",
    "# 2) network with only 20% recurrency, \n",
    "# 3) synaptic weights different for different synapses\n",
    "\n",
    "\n",
    "\n",
    "\n",
    "#def visualise_connectivity(S):\n",
    "#    Ns = len(S.source)\n",
    "#    Nt = len(S.target)\n",
    "    \n",
    "#    subplot(121)\n",
    "#    scatter(zeros(Ns), arange(Ns), color='k')\n",
    "#    scatter(ones(Nt), arange(Nt), color='k')\n",
    "#    for i,j in zip(S.i, S.j):\n",
    "#        plot([0,1], [i,j], color='k')\n",
    "        \n",
    "#    subplot(122)\n",
    "#    scatter(S.i, S.j, color='k')\n",
    "    \n",
    "#figure()\n",
    "#visualise_connectivity(synapse)"
   ]
  },
  {
   "cell_type": "code",
   "execution_count": null,
   "id": "b7c72f3c",
   "metadata": {},
   "outputs": [],
   "source": []
  },
  {
   "cell_type": "markdown",
   "id": "002d3290",
   "metadata": {},
   "source": [
    "### STDP\n",
    "\n",
    "$\\Delta w = \\sum_{pre}\\sum_{post} W(t_{post}-t_{pre})$\n",
    "\n",
    "with $W(\\Delta t) = A_{pre}exp(-\\Delta t/\\tau_{pre})$ if $\\Delta t >0$ and $W(\\Delta t) = A_{post}exp(-\\Delta t/\\tau_{post})$ if $\\Delta t <0$"
   ]
  },
  {
   "cell_type": "code",
   "execution_count": null,
   "id": "2ef9af00",
   "metadata": {},
   "outputs": [],
   "source": [
    "tau_stdp = 20*ms\n",
    "A_pre = 0.01\n",
    "A_post = -A_pre*1.05\n",
    "delta_t = linspace(-50,50,100)*ms\n",
    "W = where(delta_t>0, A_pre*exp(-delta_t/tau_stdp), A_post*exp(delta_t/tau_stdp))\n",
    "\n",
    "plot(delta_t/ms, W)"
   ]
  },
  {
   "cell_type": "markdown",
   "id": "9697f635",
   "metadata": {},
   "source": [
    "Define new variables $a_{pre}$ and $a_{post}$ which are traces of pre- and post-synaptic activity:\n",
    "\n",
    "$\\tau_{pre} \\frac{d}{dt}a_{pre} = -a_{pre}$  \n",
    "$\\tau_{post} \\frac{d}{dt}a_{post} = -a_{post}$  \n",
    "\n",
    "When a presynaptic spike occurs, the presynaptic trace is updated and the weight is modified according to the rule:\n",
    "\n",
    "$a_{pre} \\rightarrow a_{pre} + A_{pre}$, $w \\rightarrow w + a_{post}$  \n",
    "  \n",
    "When a postsynaptic spike occurs:\n",
    "\n",
    "$a_{post} \\rightarrow a_{post} + A_{post}$, $w \\rightarrow w + a_{pre}$ "
   ]
  },
  {
   "cell_type": "code",
   "execution_count": null,
   "id": "7f16ad06",
   "metadata": {},
   "outputs": [],
   "source": [
    "start_scope()\n",
    "\n",
    "taupre = taupost = 20*ms\n",
    "wmax = 0.01\n",
    "Apre = 0.01\n",
    "Apost = -Apre*taupre/taupost*1.05\n",
    "\n",
    "G = NeuronGroup(1, 'v:1', threshold='v>1', reset='v=0')\n",
    "\n",
    "syn_model = Synapses(G,G, '''   \n",
    "                           w:1\n",
    "                           dapre/dt = -apre/taupre : 1 (event-driven)\n",
    "                           dapost/dt = -apost/taupost : 1 (event-driven)\n",
    "                           ''',\n",
    "                    on_pre= '''\n",
    "                            v_post +=w\n",
    "                            apre += Apre\n",
    "                            w = clip(w+apost, 0, wmax)\n",
    "                    ''',\n",
    "                    on_post = '''\n",
    "                            apost += Apost\n",
    "                            w = clip(w+apre, 0, wmax)\n",
    "                    ''')\n",
    "\n",
    "#  (event-driven) after the definitions of apre and apost. \n",
    "# although these two variables evolve continuously over time, \n",
    "# Brian should only update them at the time of an event (a spike). \n",
    "# This is because we don’t need the values of apre and apost except at spike times, \n",
    "# and it is more efficient to only update them when needed."
   ]
  },
  {
   "cell_type": "markdown",
   "id": "33f949e0",
   "metadata": {},
   "source": [
    "Defining synapses: 3 synaptic variables\n",
    "(event-driven): Brian only updates variables apre, apost at the time of an event (spike). It is more efficient.\n",
    "clip(x,low,high) : clamp variable x between low and high.\n",
    "on_post=... argument: gives statement to calculate when a post-synaptic neuron fires.\n"
   ]
  },
  {
   "cell_type": "code",
   "execution_count": null,
   "id": "507bd917",
   "metadata": {},
   "outputs": [],
   "source": [
    "start_scope()\n",
    "\n",
    "taupre = taupost = 20*ms\n",
    "wmax = 0.01\n",
    "Apre = 0.01\n",
    "Apost = -Apre*taupre/taupost*1.05\n",
    "\n",
    "G = NeuronGroup(2, 'v:1', threshold='t>(1+i)*10*ms', refractory=100*ms)\n",
    "\n",
    "S = Synapses(G, G,\n",
    "             '''\n",
    "             w : 1\n",
    "             dapre/dt = -apre/taupre : 1 (clock-driven)      \n",
    "             dapost/dt = -apost/taupost : 1 (clock-driven)\n",
    "             ''',\n",
    "             on_pre='''\n",
    "             v_post += w\n",
    "             apre += Apre\n",
    "             w = clip(w+apost, 0, wmax)\n",
    "             ''',\n",
    "             on_post='''\n",
    "             apost += Apost\n",
    "             w = clip(w+apre, 0, wmax)\n",
    "             ''', method='linear')\n",
    "\n",
    "S.connect(i=0, j=1)\n",
    "M = StateMonitor(S, ['w', 'apre', 'apost'], record=True)\n",
    "\n",
    "run(30*ms)\n",
    "\n",
    "figure(figsize=(4, 8))\n",
    "subplot(211)\n",
    "plot(M.t/ms, M.apre[0], label='apre')\n",
    "plot(M.t/ms, M.apost[0], label='apost')\n",
    "legend()\n",
    "subplot(212)\n",
    "plot(M.t/ms, M.w[0], label='w')\n",
    "legend(loc='best')\n",
    "xlabel('Time (ms)');"
   ]
  },
  {
   "cell_type": "markdown",
   "id": "cc125af2",
   "metadata": {},
   "source": [
    "## Brian tutorial part 3: some more complex examples\n",
    "\n",
    "Changing parameters/variables during simulations."
   ]
  },
  {
   "cell_type": "markdown",
   "id": "d92256bf",
   "metadata": {},
   "source": [
    "**Example 1:** How does the firing rate of a LIF neuron driven by Poisson spiking neurons changes with its membrane time constant?"
   ]
  },
  {
   "cell_type": "code",
   "execution_count": null,
   "id": "c2426a7c",
   "metadata": {},
   "outputs": [],
   "source": [
    "# How to create a group of Poisson neurons\n"
   ]
  },
  {
   "cell_type": "code",
   "execution_count": null,
   "id": "bf46e8ca",
   "metadata": {},
   "outputs": [],
   "source": []
  },
  {
   "cell_type": "markdown",
   "id": "9b01f5ff",
   "metadata": {},
   "source": [
    "In the above simulation, both the tau and the number of spikes is changing in each simulation. To change this, we can run the Poisson group once, store its spikes, and then create a SpikeGeneratorGroup that will output those stored spikes at each simulation."
   ]
  },
  {
   "cell_type": "code",
   "execution_count": null,
   "id": "199bc397",
   "metadata": {},
   "outputs": [],
   "source": []
  },
  {
   "cell_type": "markdown",
   "id": "bddfaf5f",
   "metadata": {},
   "source": [
    "You can see that now there is much less noise and it increases monotonically because the input spikes are the same each time, meaning we are seeing the effect of the time constant alone, not the random spikes."
   ]
  },
  {
   "cell_type": "markdown",
   "id": "06977271",
   "metadata": {},
   "source": [
    "**Example 2:** Changing randomly the amplitude of a current acting on HH neuron every 10ms."
   ]
  },
  {
   "cell_type": "code",
   "execution_count": null,
   "id": "2f2b0ecc",
   "metadata": {},
   "outputs": [],
   "source": [
    "start_scope()\n",
    "\n",
    "# Parameters\n",
    "area = 20000*umetre**2\n",
    "Cm = 1*ufarad*cm**-2 * area\n",
    "gl = 5e-5*siemens*cm**-2 * area\n",
    "El = -65*mV\n",
    "EK = -90*mV\n",
    "ENa = 50*mV\n",
    "g_na = 100*msiemens*cm**-2 * area\n",
    "g_kd = 30*msiemens*cm**-2 * area\n",
    "VT = -63*mV\n",
    "\n",
    "# The model\n",
    "eqs_HH = '''\n",
    "dv/dt = (gl*(El-v) - g_na*(m*m*m)*h*(v-ENa) - g_kd*(n*n*n*n)*(v-EK) + I)/Cm : volt\n",
    "dm/dt = 0.32*(mV**-1)*(13.*mV-v+VT)/\n",
    "    (exp((13.*mV-v+VT)/(4.*mV))-1.)/ms*(1-m)-0.28*(mV**-1)*(v-VT-40.*mV)/\n",
    "    (exp((v-VT-40.*mV)/(5.*mV))-1.)/ms*m : 1\n",
    "dn/dt = 0.032*(mV**-1)*(15.*mV-v+VT)/\n",
    "    (exp((15.*mV-v+VT)/(5.*mV))-1.)/ms*(1.-n)-.5*exp((10.*mV-v+VT)/(40.*mV))/ms*n : 1\n",
    "dh/dt = 0.128*exp((17.*mV-v+VT)/(18.*mV))/ms*(1.-h)-4./(1+exp((40.*mV-v+VT)/(5.*mV)))/ms*h : 1\n",
    "I : amp\n",
    "'''\n",
    "\n",
    "group = NeuronGroup(1, eqs_HH,\n",
    "                    threshold='v > -40*mV',\n",
    "                    refractory='v > -40*mV',\n",
    "                    method='exponential_euler')\n",
    "group.v = El\n",
    "statemon = StateMonitor(group, 'v', record=True)\n",
    "spikemon = SpikeMonitor(group, 'v')\n",
    "\n",
    "figure(figsize=(9, 4))\n",
    "for l in range(5):\n",
    "    group.I = rand()*50*nA\n",
    "    run(10*ms)\n",
    "    axvline(l*10, ls='--', c='k')\n",
    "axhline(El/mV, ls='-', c='lightgray', lw=3)\n",
    "plot(statemon.t/ms, statemon.v[0]/mV, '-b')\n",
    "plot(spikemon.t/ms, spikemon.v/mV, 'ob')\n",
    "xlabel('Time (ms)')\n",
    "ylabel('v (mV)');"
   ]
  },
  {
   "cell_type": "markdown",
   "id": "22b4cfcf",
   "metadata": {},
   "source": [
    "Have to call the run on a lop over multiple simulations is not very efficient - takes a long time. An alternative is to replace the loop with the 'run_regularly' function."
   ]
  },
  {
   "cell_type": "code",
   "execution_count": null,
   "id": "092d6cd2",
   "metadata": {},
   "outputs": [],
   "source": [
    "start_scope()\n",
    "group = NeuronGroup(1, eqs_HH,\n",
    "                    threshold='v > -40*mV',\n",
    "                    refractory='v > -40*mV',\n",
    "                    method='exponential_euler')\n",
    "group.v = El\n",
    "statemon = StateMonitor(group, 'v', record=True)\n",
    "spikemon = SpikeMonitor(group, variables='v')\n",
    "\n",
    "# we replace the loop with a run_regularly\n",
    "group.run_regularly('I = rand()*50*nA', dt=10*ms)\n",
    "run(50*ms)\n",
    "\n",
    "figure(figsize=(9, 4))\n",
    "# we keep the loop just to draw the vertical lines\n",
    "for l in range(5):\n",
    "    axvline(l*10, ls='--', c='k')\n",
    "axhline(El/mV, ls='-', c='lightgray', lw=3)\n",
    "plot(statemon.t/ms, statemon.v[0]/mV, '-b')\n",
    "plot(spikemon.t/ms, spikemon.v/mV, 'ob')\n",
    "xlabel('Time (ms)')\n",
    "ylabel('v (mV)');"
   ]
  },
  {
   "cell_type": "markdown",
   "id": "ee8c4ec8",
   "metadata": {},
   "source": [
    "Now let's extend this example to run over multiple neurons, each with a different capacitance to see how that affects the behavior of the cell."
   ]
  },
  {
   "cell_type": "code",
   "execution_count": null,
   "id": "a3a15e6f",
   "metadata": {},
   "outputs": [],
   "source": [
    "start_scope()\n",
    "N = 3\n",
    "eqs_HH_2 = '''\n",
    "dv/dt = (gl*(El-v) - g_na*(m*m*m)*h*(v-ENa) - g_kd*(n*n*n*n)*(v-EK) + I)/C : volt\n",
    "dm/dt = 0.32*(mV**-1)*(13.*mV-v+VT)/\n",
    "    (exp((13.*mV-v+VT)/(4.*mV))-1.)/ms*(1-m)-0.28*(mV**-1)*(v-VT-40.*mV)/\n",
    "    (exp((v-VT-40.*mV)/(5.*mV))-1.)/ms*m : 1\n",
    "dn/dt = 0.032*(mV**-1)*(15.*mV-v+VT)/\n",
    "    (exp((15.*mV-v+VT)/(5.*mV))-1.)/ms*(1.-n)-.5*exp((10.*mV-v+VT)/(40.*mV))/ms*n : 1\n",
    "dh/dt = 0.128*exp((17.*mV-v+VT)/(18.*mV))/ms*(1.-h)-4./(1+exp((40.*mV-v+VT)/(5.*mV)))/ms*h : 1\n",
    "I : amp\n",
    "C : farad\n",
    "'''\n",
    "group = NeuronGroup(N, eqs_HH_2,\n",
    "                    threshold='v > -40*mV',\n",
    "                    refractory='v > -40*mV',\n",
    "                    method='exponential_euler')\n",
    "group.v = El\n",
    "# initialise with some different capacitances\n",
    "group.C = array([0.8, 1, 1.2])*ufarad*cm**-2*area\n",
    "statemon = StateMonitor(group, variables=True, record=True)\n",
    "# we go back to run_regularly\n",
    "group.run_regularly('I = rand()*50*nA', dt=10*ms)\n",
    "run(50*ms)\n",
    "figure(figsize=(9, 4))\n",
    "for l in range(5):\n",
    "    axvline(l*10, ls='--', c='k')\n",
    "axhline(El/mV, ls='-', c='lightgray', lw=3)\n",
    "plot(statemon.t/ms, statemon.v.T/mV, '-')\n",
    "xlabel('Time (ms)')\n",
    "ylabel('v (mV)');"
   ]
  },
  {
   "cell_type": "markdown",
   "id": "ae04949e",
   "metadata": {},
   "source": [
    "Injected current is different for all the different neurons."
   ]
  },
  {
   "cell_type": "code",
   "execution_count": null,
   "id": "538c9548",
   "metadata": {},
   "outputs": [],
   "source": [
    "plot(statemon.t/ms, statemon.I.T/nA, '-')\n",
    "xlabel('Time (ms)')\n",
    "ylabel('I (nA)');"
   ]
  },
  {
   "cell_type": "markdown",
   "id": "f8705f0b",
   "metadata": {},
   "source": [
    "run_regularly is interpreted as being run separately for each neuron, and since I is a parameter that is randomly chosen at each run, it is different for each neuron. We can fix this by making I into a shared variable, meaning that it has the same value for each neuron."
   ]
  },
  {
   "cell_type": "code",
   "execution_count": null,
   "id": "a6ab1349",
   "metadata": {},
   "outputs": [],
   "source": [
    "start_scope()\n",
    "N = 3\n",
    "eqs_HH_3 = '''\n",
    "dv/dt = (gl*(El-v) - g_na*(m*m*m)*h*(v-ENa) - g_kd*(n*n*n*n)*(v-EK) + I)/C : volt\n",
    "dm/dt = 0.32*(mV**-1)*(13.*mV-v+VT)/\n",
    "    (exp((13.*mV-v+VT)/(4.*mV))-1.)/ms*(1-m)-0.28*(mV**-1)*(v-VT-40.*mV)/\n",
    "    (exp((v-VT-40.*mV)/(5.*mV))-1.)/ms*m : 1\n",
    "dn/dt = 0.032*(mV**-1)*(15.*mV-v+VT)/\n",
    "    (exp((15.*mV-v+VT)/(5.*mV))-1.)/ms*(1.-n)-.5*exp((10.*mV-v+VT)/(40.*mV))/ms*n : 1\n",
    "dh/dt = 0.128*exp((17.*mV-v+VT)/(18.*mV))/ms*(1.-h)-4./(1+exp((40.*mV-v+VT)/(5.*mV)))/ms*h : 1\n",
    "I : amp (shared) # everything is the same except we've added this shared\n",
    "C : farad\n",
    "'''\n",
    "group = NeuronGroup(N, eqs_HH_3,\n",
    "                    threshold='v > -40*mV',\n",
    "                    refractory='v > -40*mV',\n",
    "                    method='exponential_euler')\n",
    "group.v = El\n",
    "group.C = array([0.8, 1, 1.2])*ufarad*cm**-2*area\n",
    "statemon = StateMonitor(group, 'v', record=True)\n",
    "group.run_regularly('I = rand()*50*nA', dt=10*ms)\n",
    "run(50*ms)\n",
    "figure(figsize=(9, 4))\n",
    "for l in range(5):\n",
    "    axvline(l*10, ls='--', c='k')\n",
    "axhline(El/mV, ls='-', c='lightgray', lw=3)\n",
    "plot(statemon.t/ms, statemon.v.T/mV, '-')\n",
    "xlabel('Time (ms)')\n",
    "ylabel('v (mV)');"
   ]
  },
  {
   "cell_type": "code",
   "execution_count": null,
   "id": "64156a87",
   "metadata": {},
   "outputs": [],
   "source": []
  }
 ],
 "metadata": {
  "kernelspec": {
   "display_name": "Python 3 (ipykernel)",
   "language": "python",
   "name": "python3"
  },
  "language_info": {
   "codemirror_mode": {
    "name": "ipython",
    "version": 3
   },
   "file_extension": ".py",
   "mimetype": "text/x-python",
   "name": "python",
   "nbconvert_exporter": "python",
   "pygments_lexer": "ipython3",
   "version": "3.9.13"
  }
 },
 "nbformat": 4,
 "nbformat_minor": 5
}
